{
 "cells": [
  {
   "cell_type": "code",
   "execution_count": 1,
   "metadata": {},
   "outputs": [
    {
     "name": "stdout",
     "output_type": "stream",
     "text": [
      "[['', 'year', 'month', 'intent', 'police', 'sex', 'age', 'race', 'hispanic', 'place', 'education'], ['1', '2012', '01', 'Suicide', '0', 'M', '34', 'Asian/Pacific Islander', '100', 'Home', '4'], ['2', '2012', '01', 'Suicide', '0', 'F', '21', 'White', '100', 'Street', '3'], ['3', '2012', '01', 'Suicide', '0', 'M', '60', 'White', '100', 'Other specified', '4'], ['4', '2012', '02', 'Suicide', '0', 'M', '64', 'White', '100', 'Home', '4']]\n"
     ]
    }
   ],
   "source": [
    "# Import the dataset\n",
    "\n",
    "import csv\n",
    "\n",
    "with open(\"guns.csv\", \"r\") as file:\n",
    "    csv_reader = csv.reader(file)\n",
    "    data = list(csv_reader)\n",
    "\n",
    "print(data[:5])\n"
   ]
  },
  {
   "cell_type": "code",
   "execution_count": 2,
   "metadata": {},
   "outputs": [
    {
     "name": "stdout",
     "output_type": "stream",
     "text": [
      "['', 'year', 'month', 'intent', 'police', 'sex', 'age', 'race', 'hispanic', 'place', 'education']\n"
     ]
    }
   ],
   "source": [
    "headers = data[0]\n",
    "print(headers)"
   ]
  },
  {
   "cell_type": "code",
   "execution_count": 3,
   "metadata": {},
   "outputs": [
    {
     "name": "stdout",
     "output_type": "stream",
     "text": [
      "[['2', '2012', '01', 'Suicide', '0', 'F', '21', 'White', '100', 'Street', '3'], ['3', '2012', '01', 'Suicide', '0', 'M', '60', 'White', '100', 'Other specified', '4'], ['4', '2012', '02', 'Suicide', '0', 'M', '64', 'White', '100', 'Home', '4'], ['5', '2012', '02', 'Suicide', '0', 'M', '31', 'White', '100', 'Other specified', '2'], ['6', '2012', '02', 'Suicide', '0', 'M', '17', 'Native American/Native Alaskan', '100', 'Home', '1']]\n"
     ]
    }
   ],
   "source": [
    "data = data[1:]\n",
    "print(data[1:6])"
   ]
  },
  {
   "cell_type": "code",
   "execution_count": 4,
   "metadata": {},
   "outputs": [
    {
     "name": "stdout",
     "output_type": "stream",
     "text": [
      "{'2012': 33563, '2013': 33636, '2014': 33599}\n"
     ]
    }
   ],
   "source": [
    "years = [row[1] for row in data]\n",
    "\n",
    "year_counts = {}\n",
    "\n",
    "for year in years:\n",
    "    if year not in year_counts:\n",
    "        year_counts[year] = 1\n",
    "    else:\n",
    "        year_counts[year] += 1\n",
    "        \n",
    "print(year_counts)\n",
    "\n"
   ]
  },
  {
   "cell_type": "code",
   "execution_count": 5,
   "metadata": {},
   "outputs": [
    {
     "name": "stdout",
     "output_type": "stream",
     "text": [
      "[datetime.datetime(2012, 1, 1, 0, 0), datetime.datetime(2012, 1, 1, 0, 0), datetime.datetime(2012, 2, 1, 0, 0), datetime.datetime(2012, 2, 1, 0, 0), datetime.datetime(2012, 2, 1, 0, 0)]\n"
     ]
    },
    {
     "data": {
      "text/plain": [
       "{datetime.datetime(2012, 1, 1, 0, 0): 1,\n",
       " datetime.datetime(2012, 2, 1, 0, 0): 1,\n",
       " datetime.datetime(2012, 3, 1, 0, 0): 1,\n",
       " datetime.datetime(2012, 4, 1, 0, 0): 1,\n",
       " datetime.datetime(2012, 5, 1, 0, 0): 1,\n",
       " datetime.datetime(2012, 6, 1, 0, 0): 1,\n",
       " datetime.datetime(2012, 7, 1, 0, 0): 1,\n",
       " datetime.datetime(2012, 8, 1, 0, 0): 1,\n",
       " datetime.datetime(2012, 9, 1, 0, 0): 1,\n",
       " datetime.datetime(2012, 10, 1, 0, 0): 1,\n",
       " datetime.datetime(2012, 11, 1, 0, 0): 1,\n",
       " datetime.datetime(2012, 12, 1, 0, 0): 1,\n",
       " datetime.datetime(2013, 1, 1, 0, 0): 1,\n",
       " datetime.datetime(2013, 2, 1, 0, 0): 1,\n",
       " datetime.datetime(2013, 3, 1, 0, 0): 1,\n",
       " datetime.datetime(2013, 4, 1, 0, 0): 1,\n",
       " datetime.datetime(2013, 5, 1, 0, 0): 1,\n",
       " datetime.datetime(2013, 6, 1, 0, 0): 1,\n",
       " datetime.datetime(2013, 7, 1, 0, 0): 1,\n",
       " datetime.datetime(2013, 8, 1, 0, 0): 1,\n",
       " datetime.datetime(2013, 9, 1, 0, 0): 1,\n",
       " datetime.datetime(2013, 10, 1, 0, 0): 1,\n",
       " datetime.datetime(2013, 11, 1, 0, 0): 1,\n",
       " datetime.datetime(2013, 12, 1, 0, 0): 1,\n",
       " datetime.datetime(2014, 1, 1, 0, 0): 1,\n",
       " datetime.datetime(2014, 2, 1, 0, 0): 1,\n",
       " datetime.datetime(2014, 3, 1, 0, 0): 1,\n",
       " datetime.datetime(2014, 4, 1, 0, 0): 1,\n",
       " datetime.datetime(2014, 5, 1, 0, 0): 1,\n",
       " datetime.datetime(2014, 6, 1, 0, 0): 1,\n",
       " datetime.datetime(2014, 7, 1, 0, 0): 1,\n",
       " datetime.datetime(2014, 8, 1, 0, 0): 1,\n",
       " datetime.datetime(2014, 9, 1, 0, 0): 1,\n",
       " datetime.datetime(2014, 10, 1, 0, 0): 1,\n",
       " datetime.datetime(2014, 11, 1, 0, 0): 1,\n",
       " datetime.datetime(2014, 12, 1, 0, 0): 1}"
      ]
     },
     "execution_count": 5,
     "metadata": {},
     "output_type": "execute_result"
    }
   ],
   "source": [
    "import datetime\n",
    "\n",
    "dates = [datetime.datetime(year=int(row[1]), month=int(row[2]), day=1) for row in data]\n",
    "\n",
    "print(dates[1:6])\n",
    "\n",
    "date_counts = {} \n",
    "\n",
    "for the_date in dates:\n",
    "    if the_date not in date_counts:\n",
    "        date_counts[the_date] = 1\n",
    "    else:\n",
    "        date_counts[the_date] = 1\n",
    "    \n",
    "date_counts\n",
    "\n"
   ]
  },
  {
   "cell_type": "code",
   "execution_count": 6,
   "metadata": {},
   "outputs": [
    {
     "name": "stdout",
     "output_type": "stream",
     "text": [
      "{'M': 86349, 'F': 14449}\n"
     ]
    },
    {
     "data": {
      "text/plain": [
       "{'Asian/Pacific Islander': 1326,\n",
       " 'Black': 23296,\n",
       " 'Hispanic': 9022,\n",
       " 'Native American/Native Alaskan': 917,\n",
       " 'White': 66237}"
      ]
     },
     "execution_count": 6,
     "metadata": {},
     "output_type": "execute_result"
    }
   ],
   "source": [
    "sex = [row[5] for row in data]\n",
    "sex_counts = {}\n",
    "\n",
    "for the_sex in sex:\n",
    "    if the_sex not in sex_counts:\n",
    "        sex_counts[the_sex] = 1\n",
    "    else:\n",
    "        sex_counts[the_sex] += 1\n",
    "\n",
    "race = [row[7] for row in data]\n",
    "race_counts = {}\n",
    "\n",
    "for the_race in race:\n",
    "    if the_race not in race_counts:\n",
    "        race_counts[the_race] = 1\n",
    "    else:\n",
    "        race_counts[the_race] += 1\n",
    "\n",
    "\n",
    "print(sex_counts)\n",
    "\n",
    "race_counts\n",
    "\n",
    "    "
   ]
  },
  {
   "cell_type": "markdown",
   "metadata": {},
   "source": [
    "## Findings thus far:\n",
    "\n",
    "Gun deaths in the US seem to disproportionately affect men vs women. \n",
    "\n",
    "### Based on this data set the\n",
    "\n",
    "\n",
    "* There seems to be an inordinate affect on minorities, although having some data on the percentage of each race in the overall US population would help.\n",
    "\n",
    "* It would be interesting to see if there is a correlation to season\n",
    "* Looking at intent and education could be interesting"
   ]
  },
  {
   "cell_type": "code",
   "execution_count": null,
   "metadata": {
    "collapsed": true
   },
   "outputs": [],
   "source": [
    "import csv\n",
    "\n",
    "with open(\"census.csv\", \"r\") as census_data:\n",
    "    csv_reader = csv.reader(census_data)\n",
    "    census_data = list(csv_reader)\n",
    "\n",
    "census_data"
   ]
  },
  {
   "cell_type": "code",
   "execution_count": null,
   "metadata": {
    "collapsed": true
   },
   "outputs": [],
   "source": [
    "white_gun_death_rate = 66237 / 197318956\n",
    "white_multi = white_gun_death_rate * 100000\n",
    "white_multi\n",
    "white_gun_death_rate"
   ]
  },
  {
   "cell_type": "code",
   "execution_count": null,
   "metadata": {
    "collapsed": true
   },
   "outputs": [],
   "source": [
    "mapping = {\n",
    "    \"Asian/Pacific Islander\": 15159516 + 674625,\n",
    "    \"Native American/Native Alaskan\": 3739506,\n",
    "    \"Black\": 40250635,\n",
    "    \"Hispanic\": 44618105,\n",
    "    \"White\": 197318956\n",
    "    \n",
    "}\n",
    "\n",
    "race_per_hundredk = {}\n",
    "\n",
    "for k,v in race_counts.items():\n",
    "    race_per_hundredk[k] = (v / mapping[k]) * 100000\n",
    "race_per_hundredk\n",
    "    "
   ]
  },
  {
   "cell_type": "code",
   "execution_count": null,
   "metadata": {
    "collapsed": true
   },
   "outputs": [],
   "source": [
    "intents = [row[3] for row in data]\n",
    "\n",
    "homicide_race_counts = {}\n",
    "\n",
    "for i,race in enumerate(races):\n",
    "    if race not in homicide_race_counts:\n",
    "        homicide_race_counts[race] = 0\n",
    "    if intents[i] == \"Homicide\":\n",
    "        homicide_race_counts[race] +=1\n",
    "\n",
    "homicide_race_counts\n",
    "\n",
    "race_per_hundredk = {}\n",
    "\n",
    "for k,v in homicide_race_counts.items():\n",
    "    race_per_hundredk[k] = (v / mapping[k]) * 100000\n",
    "\n",
    "race_per_hundredk\n"
   ]
  },
  {
   "cell_type": "markdown",
   "metadata": {},
   "source": [
    "# Findings\n",
    "\n",
    "It appears that gun related homicides in the US disproportionately effect Black and Hispanic racial categories\n",
    "\n",
    "### Some areas to investidate further:\n",
    "* Links between months and homicide rates\n",
    "* Homicide by gender\n",
    "* Gun Deaths by location, education and age"
   ]
  },
  {
   "cell_type": "code",
   "execution_count": null,
   "metadata": {
    "collapsed": true
   },
   "outputs": [],
   "source": []
  }
 ],
 "metadata": {
  "kernelspec": {
   "display_name": "Python 3",
   "language": "python",
   "name": "python3"
  },
  "language_info": {
   "codemirror_mode": {
    "name": "ipython",
    "version": 3
   },
   "file_extension": ".py",
   "mimetype": "text/x-python",
   "name": "python",
   "nbconvert_exporter": "python",
   "pygments_lexer": "ipython3",
   "version": "3.6.3"
  }
 },
 "nbformat": 4,
 "nbformat_minor": 1
}
